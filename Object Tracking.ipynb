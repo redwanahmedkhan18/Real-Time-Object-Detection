{
 "cells": [
  {
   "cell_type": "code",
   "execution_count": 13,
   "id": "d0b93b35",
   "metadata": {},
   "outputs": [],
   "source": [
    "import cv2\n",
    "import numpy as np\n",
    "import math"
   ]
  },
  {
   "cell_type": "code",
   "execution_count": 14,
   "id": "d02201b1",
   "metadata": {},
   "outputs": [],
   "source": [
    "class ObjectDetection:\n",
    "    def __init__(self, weights_path=\"/home/redwan/Desktop/Object detection/edit/yolov4.weights\", cfg_path=\"/home/redwan/Desktop/Object detection/edit/yolov4.cfg\"):\n",
    "        print(\"Loading Object Detection\")\n",
    "        print(\"Running opencv dnn with YOLOv4\")\n",
    "        self.nmsThreshold = 0.4\n",
    "        self.confThreshold = 0.5\n",
    "        self.image_size = 608\n",
    "\n",
    "        # Load Network\n",
    "        net = cv2.dnn.readNet(weights_path, cfg_path)\n",
    "\n",
    "        # Enable GPU CUDA\n",
    "        net.setPreferableBackend(cv2.dnn.DNN_BACKEND_CUDA)\n",
    "        net.setPreferableTarget(cv2.dnn.DNN_TARGET_CUDA)\n",
    "        self.model = cv2.dnn_DetectionModel(net)\n",
    "\n",
    "        self.classes = []\n",
    "        self.load_class_names()\n",
    "        self.colors = np.random.uniform(0, 255, size=(80, 3))\n",
    "\n",
    "        self.model.setInputParams(size=(self.image_size, self.image_size), scale=1/255)\n",
    "\n",
    "    def load_class_names(self, classes_path=\"/home/redwan/Desktop/Object detection/edit/classes.txt\"):\n",
    "\n",
    "        with open(classes_path, \"r\") as file_object:\n",
    "            for class_name in file_object.readlines():\n",
    "                class_name = class_name.strip()\n",
    "                self.classes.append(class_name)\n",
    "\n",
    "        self.colors = np.random.uniform(0, 255, size=(80, 3))\n",
    "        return self.classes\n",
    "\n",
    "    def detect(self, frame):\n",
    "        return self.model.detect(frame, nmsThreshold=self.nmsThreshold, confThreshold=self.confThreshold)"
   ]
  },
  {
   "cell_type": "code",
   "execution_count": 15,
   "id": "214dbf8a",
   "metadata": {},
   "outputs": [
    {
     "name": "stdout",
     "output_type": "stream",
     "text": [
      "Loading Object Detection\n",
      "Running opencv dnn with YOLOv4\n"
     ]
    }
   ],
   "source": [
    "#from object_detection import ObjectDetection\n",
    "\n",
    "od=ObjectDetection()"
   ]
  },
  {
   "cell_type": "code",
   "execution_count": 16,
   "id": "e200089f",
   "metadata": {},
   "outputs": [],
   "source": [
    "cap=cv2.VideoCapture(0)\n",
    "count =0\n",
    "copy_of_prv_center_points=[]\n",
    "tracking_objects={}\n",
    "tracking_objects_copy={}\n",
    "track_id=0"
   ]
  },
  {
   "cell_type": "code",
   "execution_count": 17,
   "id": "a93dd0f5",
   "metadata": {},
   "outputs": [
    {
     "name": "stderr",
     "output_type": "stream",
     "text": [
      "[ WARN:0] global /tmp/pip-req-build-driubr42/opencv/modules/dnn/src/dnn.cpp (1447) setUpNet DNN module was not built with CUDA backend; switching to CPU\n"
     ]
    }
   ],
   "source": [
    "while True:\n",
    "    ret,frame=cap.read()\n",
    "    count+=1\n",
    "    \n",
    "    if not ret:\n",
    "        break\n",
    "    #center points of current frame   \n",
    "    center_points=[]\n",
    "        \n",
    "    (class_ids, scores, boxes) = od.detect(frame)\n",
    "    \n",
    "    \n",
    "    for box in boxes:\n",
    "        (x,y,w,h)=box\n",
    "        cx=int(0.5*(x+(x+w)))\n",
    "        cy=int(0.5*(y+(y+h)))\n",
    "        center_points.append((cx,cy))\n",
    "        #print(\"FRAME no**\",count,\" \",x,y,w,h)\n",
    "        #cv2.circle(frame,(cx,cy),0,(0,0,255),-1)\n",
    "        cv2.rectangle(frame,(x,y),(x+w,y+h),(0,255,0),3)\n",
    "    #beginning of the current and previous points frame   \n",
    "    if count<=2:    \n",
    "        for pt in center_points:\n",
    "            for pt2 in copy_of_prv_center_points:\n",
    "                distance=math.hypot(pt2[0]-pt[0],pt2[1]-pt[1])\n",
    "                if distance<20:\n",
    "                    tracking_objects[track_id]= pt\n",
    "                    track_id+=1\n",
    "            \n",
    "    else:\n",
    "        tracking_objects_copy=tracking_objects.copy()\n",
    "        center_points_current_frame_copy=center_points.copy()\n",
    "        for object_id,pt2 in tracking_objects_copy.items():\n",
    "            object_exists=False\n",
    "            for pt in center_points_current_frame_copy:\n",
    "                distance=math.hypot(pt2[0]-pt[0],pt2[1]-pt[1])\n",
    "                #update the ids position\n",
    "                if distance<20:\n",
    "                    tracking_objects[object_id]= pt\n",
    "                    object_exists=True\n",
    "                    if pt in center_points:\n",
    "                        center_points_current_frame_copy.remove(pt)\n",
    "                        continue\n",
    "            #remove the lost id \n",
    "            if not object_exists:\n",
    "                tracking_objects.pop(object_id)\n",
    "        \n",
    "        #Add new id found\n",
    "        for pt in center_points:\n",
    "            tracking_objects[track_id]=pt\n",
    "            track_id+=1\n",
    "            \n",
    "    \n",
    "    \n",
    "                \n",
    "        #cv2.circle(frame,(cx,cy),0,(0,0,255),-1)\n",
    "    for object_id,pt in tracking_objects.items():\n",
    "        cv2.circle(frame,pt,0,(0,0,255),-1)\n",
    "        cv2.putText(frame,str(object_id),(pt[0],pt[1]-7),0,1,(0,0,255),3)\n",
    "        \n",
    "    #print(\"Tracking Objects:\",tracking_objects)\n",
    "        \n",
    "\n",
    "    cv2.imshow('Frame',frame)\n",
    "    #print(\"Current Frame:\",center_points)\n",
    "    #print(\"Previous Frame:\",copy_of_prv_center_points)\n",
    "    \n",
    "    #make a copy of previous points\n",
    "    copy_of_prv_center_points=center_points.copy()\n",
    "    \n",
    "    key=cv2.waitKey(1)\n",
    "    if key==ord('n'):\n",
    "        break\n",
    "\n",
    "cap.release()\n",
    "cv2.destroyAllWindows()"
   ]
  },
  {
   "cell_type": "code",
   "execution_count": null,
   "id": "db6a9cde",
   "metadata": {},
   "outputs": [],
   "source": []
  },
  {
   "cell_type": "code",
   "execution_count": null,
   "id": "19610c02",
   "metadata": {},
   "outputs": [],
   "source": []
  },
  {
   "cell_type": "code",
   "execution_count": null,
   "id": "bf6511c3",
   "metadata": {},
   "outputs": [],
   "source": []
  }
 ],
 "metadata": {
  "kernelspec": {
   "display_name": "Python 3 (ipykernel)",
   "language": "python",
   "name": "python3"
  },
  "language_info": {
   "codemirror_mode": {
    "name": "ipython",
    "version": 3
   },
   "file_extension": ".py",
   "mimetype": "text/x-python",
   "name": "python",
   "nbconvert_exporter": "python",
   "pygments_lexer": "ipython3",
   "version": "3.9.7"
  }
 },
 "nbformat": 4,
 "nbformat_minor": 5
}
